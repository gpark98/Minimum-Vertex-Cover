{
 "cells": [
  {
   "cell_type": "code",
   "execution_count": 1,
   "id": "1a7704af",
   "metadata": {},
   "outputs": [],
   "source": [
    "import matplotlib.pyplot as plt\n",
    "import numpy as np\n",
    "import time\n",
    "import sys\n",
    "import random\n",
    "import networkx as nx\n",
    "from networkx.algorithms.approximation import min_weighted_vertex_cover\n",
    "\n",
    "def hill_climbing(graph_name, random_seed, max_time):\n",
    "    \n",
    "    random.seed(random_seed)\n",
    "\n",
    "    if graph_name == 'power':\n",
    "        opt = 2203\n",
    "    if graph_name == 'star2':\n",
    "        opt = 4542\n",
    "    \n",
    "    G = nx.Graph()\n",
    "    lines = open('./'+graph_name+'.graph', 'r').readlines()\n",
    "    nV, nE, _ = lines[0].split()\n",
    "    for i in range(1, int(nV)+1):\n",
    "        vs = lines[i].split()\n",
    "        for v in vs:\n",
    "            G.add_edge(i, int(v))\n",
    "\n",
    "    start_time = time.time()\n",
    "\n",
    "    # Find an initial vertex cover\n",
    "\n",
    "    C = []\n",
    "    update_times = []\n",
    "    update_results = []\n",
    "\n",
    "    H = G.copy()\n",
    "\n",
    "    while H.size():\n",
    "        max_grade = max(H.degree, key=lambda x: x[1])[1]\n",
    "        max_grade_nodes_list = [node[0] for node in H.degree if node[1] == max_grade]\n",
    "\n",
    "        n = max_grade_nodes_list[0]\n",
    "\n",
    "        H.remove_node(n)\n",
    "        C.append(n)\n",
    "\n",
    "    C_new = C\n",
    "\n",
    "    lst = list(G.edges)\n",
    "    \n",
    "    found_time = -1\n",
    "\n",
    "    while ((time.time() - start_time) < max_time):\n",
    "\n",
    "        c = 0\n",
    "        for u,v in G.edges:\n",
    "            if u not in C and v not in C:\n",
    "                c = -1\n",
    "                \n",
    "        if c == 0:\n",
    "\n",
    "            # C is a vertex cover, trace the improvements\n",
    "\n",
    "            l = len(C)\n",
    "            \n",
    "            C_new = C.copy()\n",
    "            C.pop(random.randrange(len(C)))\n",
    "\n",
    "\n",
    "        if len(C) == 0:\n",
    "            break\n",
    "        # select exiting vertex\n",
    "\n",
    "        values = [0 for _ in range(len(C))]\n",
    "        dic = dict(zip(C, values))\n",
    "        for u,v in G.edges:\n",
    "            if u in C and v not in C:\n",
    "                dic[u] += 1\n",
    "            if u not in C and v in C:\n",
    "                dic[v] += 1\n",
    "        a = min(dic, key=dic.get)\n",
    "\n",
    "        C.remove(a)\n",
    "\n",
    "        # select entering vertex\n",
    "        random.shuffle(lst)\n",
    "        for u,v in lst:\n",
    "            if u not in C and v not in C:\n",
    "                C.append(v)\n",
    "                break\n",
    "                \n",
    "    l = len(C_new)      \n",
    "    q = (l-opt)/opt\n",
    "    \n",
    "    return q"
   ]
  },
  {
   "cell_type": "code",
   "execution_count": 2,
   "id": "eec75597",
   "metadata": {},
   "outputs": [
    {
     "name": "stdout",
     "output_type": "stream",
     "text": [
      "[0.029722589167767502, 0.029722589167767502, 0.029722589167767502, 0.029722589167767502, 0.029722589167767502, 0.029722589167767502, 0.029722589167767502, 0.029722589167767502, 0.029722589167767502, 0.029722589167767502]\n",
      "[0.029722589167767502, 0.029722589167767502, 0.029722589167767502, 0.029722589167767502, 0.029722589167767502, 0.029722589167767502, 0.029722589167767502, 0.029722589167767502, 0.029722589167767502, 0.029722589167767502]\n",
      "[0.029502421840598855, 0.029502421840598855, 0.029502421840598855, 0.029502421840598855, 0.029502421840598855, 0.029502421840598855, 0.029502421840598855, 0.029722589167767502, 0.029722589167767502, 0.029722589167767502]\n",
      "[0.02906208718626156, 0.02928225451343021, 0.02928225451343021, 0.02928225451343021, 0.02928225451343021, 0.02928225451343021, 0.029502421840598855, 0.029502421840598855, 0.029502421840598855, 0.029502421840598855]\n",
      "[0.028401585204755615, 0.028621752531924262, 0.028841919859092912, 0.028841919859092912, 0.02906208718626156, 0.02906208718626156, 0.02906208718626156, 0.02928225451343021, 0.029502421840598855, 0.029502421840598855]\n"
     ]
    },
    {
     "data": {
      "image/png": "[encoded data removed]",
      "text/plain": [
       "<Figure size 432x288 with 1 Axes>"
      ]
     },
     "metadata": {
      "needs_background": "light"
     },
     "output_type": "display_data"
    }
   ],
   "source": [
    "maxt_lst = [70, 90, 110, 130, 150]\n",
    "num_iter = 10\n",
    "graph_name = 'star2'\n",
    "\n",
    "for max_time in maxt_lst:\n",
    "    q_lst = []\n",
    "    for i in range(num_iter):\n",
    "        random_seed = i\n",
    "        q = hill_climbing(graph_name, random_seed, max_time)\n",
    "        q_lst.append(q)\n",
    "    \n",
    "    q_lst.sort()\n",
    "    \n",
    "    l = len(q_lst)\n",
    "    prob_lst = [(i-1)/num_iter for i in range(1,l+1)]\n",
    "    plt.step(q_lst, prob_lst, label='max_t='+str(max_time))\n",
    "    print(q_lst)\n",
    "plt.legend(loc='best')\n",
    "plt.show()"
   ]
  }
 ],
 "metadata": {
  "kernelspec": {
   "display_name": "Python 3 (ipykernel)",
   "language": "python",
   "name": "python3"
  },
  "language_info": {
   "codemirror_mode": {
    "name": "ipython",
    "version": 3
   },
   "file_extension": ".py",
   "mimetype": "text/x-python",
   "name": "python",
   "nbconvert_exporter": "python",
   "pygments_lexer": "ipython3",
   "version": "3.9.12"
  }
 },
 "nbformat": 4,
 "nbformat_minor": 5
}
