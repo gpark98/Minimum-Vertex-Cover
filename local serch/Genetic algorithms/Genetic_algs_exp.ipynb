{
  "nbformat": 4,
  "nbformat_minor": 0,
  "metadata": {
    "colab": {
      "provenance": []
    },
    "kernelspec": {
      "name": "python3",
      "display_name": "Python 3"
    },
    "language_info": {
      "name": "python"
    }
  },
  "cells": [
    {
      "cell_type": "code",
      "execution_count": 1,
      "metadata": {
        "id": "nLz_mJf7sCpf"
      },
      "outputs": [],
      "source": [
        "# In this notebook I do two examples of how to implement genetic algorithms\n",
        "# from scratch\n",
        "\n",
        "# Ref:  https://machinelearningmastery.com/simple-genetic-algorithm-from-scratch-in-python/\n"
      ]
    },
    {
      "cell_type": "code",
      "source": [
        "import numpy as np"
      ],
      "metadata": {
        "id": "wvp_gAVhtBds"
      },
      "execution_count": 2,
      "outputs": []
    },
    {
      "cell_type": "code",
      "source": [
        "def selection(pop,n_pop,scores, k = 3):\n",
        "\n",
        "  #Select first parent\n",
        "  selection_ix = np.random.randint(n_pop)\n",
        "  # Randomly pick k-1 parents\n",
        "  for ix in np.random.randint(0,n_pop,k-1):\n",
        "\n",
        "    # Compare score of parents and select best score\n",
        "    if scores[ix] < scores[selection_ix]:\n",
        "\n",
        "      selection_ix = ix\n",
        "\n",
        "  return pop[selection_ix]"
      ],
      "metadata": {
        "id": "g0HLljMFzNSr"
      },
      "execution_count": 3,
      "outputs": []
    },
    {
      "cell_type": "code",
      "source": [
        "def crossover(p1,p2,r_cross):\n",
        "  # Given two parents\n",
        "  # Copy parents\n",
        "  c1,c2 = p1.copy(),p2.copy()\n",
        "  # If crossover occures\n",
        "  if np.random.rand()<r_cross:\n",
        "    # Select a partition point\n",
        "    pt = np.random.randint(1,len(p1)-2)\n",
        "    # Crossover the genes\n",
        "    c1 = p1[:pt]+p2[pt:]\n",
        "    c2 = p2[:pt]+p1[pt:]\n",
        "\n",
        "  return [c1,c2]"
      ],
      "metadata": {
        "id": "Evc8qWBzz9HW"
      },
      "execution_count": 4,
      "outputs": []
    },
    {
      "cell_type": "code",
      "source": [
        "p1 = [0, 1, 0, 1, 0, 1, 1]\n",
        "p2 =  [1, 0, 1, 0, 0, 1, 1]\n",
        "\n",
        "pt = 4\n",
        "\n",
        "c1 = p1[:pt] + p2[pt:]\n",
        "\n",
        "c2 = p2[:pt] + p1[pt:]\n",
        "\n",
        "print(c1)\n",
        "\n",
        "print(c2)\n"
      ],
      "metadata": {
        "colab": {
          "base_uri": "https://localhost:8080/"
        },
        "id": "sCYjKL4cSyKR",
        "outputId": "38914ccb-a2e7-4c1d-889d-45ed79373d93"
      },
      "execution_count": 5,
      "outputs": [
        {
          "output_type": "stream",
          "name": "stdout",
          "text": [
            "[0, 1, 0, 1, 0, 1, 1]\n",
            "[1, 0, 1, 0, 0, 1, 1]\n"
          ]
        }
      ]
    },
    {
      "cell_type": "code",
      "source": [
        "def mutation(bitstring,n_bits,r_mut):\n",
        "  # Given a bitstring\n",
        "  # Go through each elemnt of the string\n",
        "  # print(bitstring)\n",
        "  for i in range(n_bits):\n",
        "    # If mutation occurs\n",
        "    if np.random.rand()<r_mut:\n",
        "      # Flip the bit\n",
        "      bitstring[i] = 1-bitstring[i]\n",
        "\n",
        "  return bitstring\n",
        "\n"
      ],
      "metadata": {
        "id": "HiFGfceN0aCg"
      },
      "execution_count": 6,
      "outputs": []
    },
    {
      "cell_type": "code",
      "source": [],
      "metadata": {
        "id": "yPCGxhCf1okE"
      },
      "execution_count": 6,
      "outputs": []
    },
    {
      "cell_type": "code",
      "source": [
        "# First stpe create a population"
      ],
      "metadata": {
        "id": "ClpVsO16sQcJ"
      },
      "execution_count": 7,
      "outputs": []
    },
    {
      "cell_type": "code",
      "source": [
        "# genetic algorithm\n",
        "def genetic_algorithm(objective, n_bits, n_iter, n_pop, r_cross,r_mut):\n",
        "  # initial population of random bitstring\n",
        "  pop = [np.random.randint(0,2,n_bits).tolist() for _ in range(n_pop)]\n",
        "  best, best_eval = 0,objective(pop[0])\n",
        "  # enumerate generations\n",
        "  for gen in range(n_iter):\n",
        "\n",
        "    # print(gen)\n",
        "\n",
        "    #evaluate all cadidates in the population\n",
        "\n",
        "    scores = [objective(c) for c in pop]    \n",
        "\n",
        "    # chec for new best solution\n",
        "\n",
        "    for i in range(n_pop):\n",
        "      if scores[i]< best_eval:\n",
        "        best,best_eval = pop[i],scores[i]\n",
        "        print(\">%d, new best f(%s) = %.3f\"%(gen,pop[i],scores[i]))\n",
        "    # select parents \n",
        "    selected= [selection(pop,n_pop,scores) for _ in range(n_pop)]\n",
        "    children = list()\n",
        "\n",
        "    for i in range(0,n_pop,2):\n",
        "      # Select parents in pairs\n",
        "      p1, p2 = selected[i], selected[i+1]\n",
        "      # print(\"p1\")\n",
        "      # print(p1)\n",
        "      # print(\"p2\")\n",
        "      # print(p2)\n",
        "      # Crossover and mutation \n",
        "      for c in crossover(p1,p2,r_cross):\n",
        "        # Mutation\n",
        "        #print(\"mut\")\n",
        "        mutation(c,n_bits,r_mut)\n",
        "        # Store for next generation\n",
        "        children.append(c)\n",
        "      # Replace popuation\n",
        "      pop = children\n",
        "  return [best,best_eval]"
      ],
      "metadata": {
        "id": "wiSuTnkVsmmO"
      },
      "execution_count": 8,
      "outputs": []
    },
    {
      "cell_type": "markdown",
      "source": [
        "We start with a simple example, the OneMax problem. It valuates a binary string based on the number of 1s in the string. The objective function in this case is the sum of 1s in a bitstring"
      ],
      "metadata": {
        "id": "8_Qlvsll2j3Z"
      }
    },
    {
      "cell_type": "code",
      "source": [
        "# objective funciton \n",
        "\n",
        "def onemax(x):\n",
        "\n",
        "  return -sum(x)"
      ],
      "metadata": {
        "id": "nCb4oZey261f"
      },
      "execution_count": 9,
      "outputs": []
    },
    {
      "cell_type": "code",
      "source": [
        "# define the total iterations \n",
        "n_iter = 100\n",
        "# bits\n",
        "n_bits = 20\n",
        "# Pop size\n",
        "n_pop = 100\n",
        "# Crossover rate\n",
        "r_cross = 0.9\n",
        "# mutation rate\n",
        "r_mut = 1.0/float(n_bits)"
      ],
      "metadata": {
        "id": "dMNQJMPC2_10"
      },
      "execution_count": 10,
      "outputs": []
    },
    {
      "cell_type": "code",
      "source": [
        "best, score = genetic_algorithm(onemax, n_bits, n_iter, n_pop, r_cross, r_mut)\n",
        "print('Done!')\n",
        "print('f(%s) = %f' % (best, score))"
      ],
      "metadata": {
        "colab": {
          "base_uri": "https://localhost:8080/"
        },
        "id": "cdfQRj3D3TNi",
        "outputId": "98c35dd9-709f-4bb9-b27c-f61c8bd8710c"
      },
      "execution_count": 11,
      "outputs": [
        {
          "output_type": "stream",
          "name": "stdout",
          "text": [
            ">2, new best f([1, 1, 1, 1, 1, 1, 1, 1, 1, 0, 1, 1, 1, 1, 0, 1, 1, 1, 1, 1]) = -18.000\n",
            ">4, new best f([1, 1, 0, 1, 1, 1, 1, 1, 1, 1, 1, 1, 1, 1, 1, 1, 1, 1, 1, 1]) = -19.000\n",
            ">7, new best f([1, 1, 1, 1, 1, 1, 1, 1, 1, 1, 1, 1, 1, 1, 1, 1, 1, 1, 1, 1]) = -20.000\n",
            "Done!\n",
            "f([1, 1, 1, 1, 1, 1, 1, 1, 1, 1, 1, 1, 1, 1, 1, 1, 1, 1, 1, 1]) = -20.000000\n"
          ]
        }
      ]
    },
    {
      "cell_type": "code",
      "source": [
        "import networkx as nx"
      ],
      "metadata": {
        "id": "5hP4dZGo3usI"
      },
      "execution_count": 12,
      "outputs": []
    },
    {
      "cell_type": "code",
      "source": [
        "G = nx.Graph()\n",
        "G.add_edge(1,2)\n",
        "G.add_edge(1,3)\n",
        "G.add_edge(2,4)\n",
        "G.add_edge(2,5)\n",
        "G.add_edge(3,4)\n",
        "G.add_edge(3,5)\n",
        "G.add_edge(1,8)\n",
        "G.add_edge(8,3)\n",
        "G.add_edge(7,4)\n",
        "G.add_edge(7,6)\n",
        "G.add_edge(6,2)\n",
        "G.add_edge(6,5)"
      ],
      "metadata": {
        "id": "uEkUadLf8lRG"
      },
      "execution_count": 136,
      "outputs": []
    },
    {
      "cell_type": "code",
      "source": [
        "num_edges_G =len(G.edges)"
      ],
      "metadata": {
        "id": "iQEmLghC82mp"
      },
      "execution_count": 137,
      "outputs": []
    },
    {
      "cell_type": "code",
      "source": [
        "C = [2,3]"
      ],
      "metadata": {
        "id": "XvUiiVSJ9oHM"
      },
      "execution_count": 15,
      "outputs": []
    },
    {
      "cell_type": "code",
      "source": [
        "def num_edge_cover(C: list):\n",
        "  # Function to obtain number of edges covered by C\n",
        "  # Input: C -> Vertex subset \n",
        "  # Output: count -> int\n",
        "  count = 0\n",
        "\n",
        "  # For every vertex  u in C\n",
        "  for u in C:\n",
        "    # Count every conection v\n",
        "    for v in list(G.adj[u]):\n",
        "      # Avoid repeting edge (u,v) and (v,u)\n",
        "      if v in C and v<u:\n",
        "        continue\n",
        "      else:\n",
        "        # Add new edges \n",
        "        count +=1\n",
        "  return count"
      ],
      "metadata": {
        "id": "WFTsbxBC9rRN"
      },
      "execution_count": 16,
      "outputs": []
    },
    {
      "cell_type": "code",
      "source": [
        "def cost_cover(num_edges_G: int,C: list):\n",
        "  # Function to asses the fitness of C\n",
        "  # For a vertex cover returns 0 \n",
        "  # Input:\n",
        "  # num_edges_G: Number of edges in graph G\n",
        "  # C: Strings of 1 and 0\n",
        "  # Output:\n",
        "  # Difference between number of edges and edges covered by C.\n",
        "\n",
        "\n",
        "  #Obtain subset from binary string\n",
        "  V = np.where(np.asanyarray(C)==1)[0]+1\n",
        "\n",
        "  return num_edges_G-num_edge_cover(V)\n"
      ],
      "metadata": {
        "id": "FYF_u-M3--u4"
      },
      "execution_count": 40,
      "outputs": []
    },
    {
      "cell_type": "code",
      "source": [
        "cost_cover(num_edges_G , C)"
      ],
      "metadata": {
        "colab": {
          "base_uri": "https://localhost:8080/"
        },
        "id": "59NXnfxKYBny",
        "outputId": "b89b5c35-c375-4604-a36e-4dd5a056357c"
      },
      "execution_count": 18,
      "outputs": [
        {
          "output_type": "execute_result",
          "data": {
            "text/plain": [
              "0"
            ]
          },
          "metadata": {},
          "execution_count": 18
        }
      ]
    },
    {
      "cell_type": "markdown",
      "source": [
        "We take the decision form of the problem. For a given $k$, is there a subset cover $C\\subset V$ with $|C| = k$?\n",
        "\n",
        "Since we will only be working with subsets of size $k$ every element of the population only has $k$ entries with $1$.\n",
        "\n",
        "To define the genetic algorithm we require a crossover function and a mutation function. To remain in the correct population, we construct a corssover funciton and a mutation function that keep $k$  entries with value $1$ in any individual.\n",
        "\n",
        "Idea for crossover: \n",
        "- Sample $p$ 1s indexes from $p_1,p_2$ lets say $a_1,a_2$\n",
        "- For every element in $a_1$ check if the corresponding entry in $p_2$ is a $0.$ Save such valid elements of $a_1.$ Similarly for $a_2.$\n",
        "- Let $m = \\min(a_1,a_2).$\n",
        "- Randomly sample $m$ elements from the valid lists and only change those locations for $c_1,c_2$.\n",
        "\n",
        "Idea for mutation:\n",
        "\n",
        "- Given a parameter $n_mut$ which is the number of entries to mutate\n",
        "- If $n_{mut} <k $ and $n_{mut}<n-k,$ find $n_{mut}$ entries with 1s and 0s. Exchange those locations to 0s and 1s, respectively.\n",
        "\n",
        "This ensures that the amount of 1s in the mutated "
      ],
      "metadata": {
        "id": "69cojt04aD8b"
      }
    },
    {
      "cell_type": "code",
      "source": [
        "def crossover_min_vertex_cov(p1: list,p2: list,n_cross: int,r_cross: float):\n",
        "  # Function for doing crossover of partents\n",
        "  #Input:\n",
        "  # p1,p2: parents\n",
        "  # p: integer smaller than current vertex cover decision problem\n",
        "  # r_cross: float for deciding if crossover occurs\n",
        "  # Output:\n",
        "  # c1,c2: lists. Childs of p1 and p2\n",
        "  # Given two parents\n",
        "  # Copy parents\n",
        "  c1,c2 = p1.copy(),p2.copy()\n",
        "  # If crossover occures\n",
        "  if np.random.rand()<r_cross:\n",
        "    # Select a partition point\n",
        "    # replace = False. Avoid sampling one number more than once\n",
        "    idx1 = np.random.choice(np.where(np.asarray(p1)==1)[0],n_cross,replace = False)\n",
        "    idx2 = np.random.choice(np.where(np.asarray(p2)==1)[0],n_cross,replace = False)\n",
        "    # print(idx1,idx2)\n",
        "    \n",
        "    idx1_valid = []\n",
        "    idx2_valid = []\n",
        "    # Find subsets of indexes to ensure that there are k 1s in each child\n",
        "    # Only do a swap when for a 1 corresponds a 0\n",
        "    for i in range(n_cross):\n",
        "\n",
        "      if p2[idx1[i]] == 0:\n",
        "\n",
        "        idx1_valid.append(idx1[i])   \n",
        "\n",
        "      if p1[idx2[i]] ==0:\n",
        "\n",
        "        idx2_valid.append(idx2[i])\n",
        "    \n",
        "    # Only swap shared amount of indexes correspondances\n",
        "\n",
        "    m = min(len(idx1_valid),len(idx2_valid))\n",
        "\n",
        "    # print(m,idx1_valid,idx2_valid)\n",
        "\n",
        "    # Randomly select which indexes to change\n",
        "\n",
        "    idx1 = np.random.choice(idx1_valid,m,replace = False)\n",
        "\n",
        "    idx2 = np.random.choice(idx2_valid,m,replace = False)\n",
        "\n",
        "    # print(idx1,idx2)\n",
        "\n",
        "    # Change the indexes\n",
        "\n",
        "    for i in range(m):\n",
        "\n",
        "      c1[idx2[i]] = p2[idx2[i]]\n",
        "\n",
        "      c1[idx1[i]] = 0\n",
        "\n",
        "      c2[idx1[i]] = p1[idx1[i]]\n",
        "\n",
        "      c2[idx2[i]] = 0\n",
        "\n",
        "  #print(\"ch 1 %s,\"%c1)\n",
        "  #print(\"ch2 %s\"%c2)\n",
        "\n",
        "  return [c1,c2]"
      ],
      "metadata": {
        "id": "xVFNnFluYgyV"
      },
      "execution_count": 72,
      "outputs": []
    },
    {
      "cell_type": "code",
      "source": [
        "p1 = [0, 1, 0, 1, 1, 0, 1]\n",
        "p2 =  [1, 0, 1, 0, 0, 1, 1]"
      ],
      "metadata": {
        "id": "ZXdlffdZpLSw"
      },
      "execution_count": 73,
      "outputs": []
    },
    {
      "cell_type": "code",
      "source": [
        "crossover_min_vertex_cov(p1,p2,2,1)"
      ],
      "metadata": {
        "colab": {
          "base_uri": "https://localhost:8080/"
        },
        "id": "v2gP2NzVgGxm",
        "outputId": "fe7dc0f8-bbf4-4b0c-a350-cd93be0cbe81"
      },
      "execution_count": 74,
      "outputs": [
        {
          "output_type": "execute_result",
          "data": {
            "text/plain": [
              "[[1, 0, 1, 1, 0, 0, 1], [0, 1, 0, 0, 1, 1, 1]]"
            ]
          },
          "metadata": {},
          "execution_count": 74
        }
      ]
    },
    {
      "cell_type": "code",
      "source": [
        "p1"
      ],
      "metadata": {
        "colab": {
          "base_uri": "https://localhost:8080/"
        },
        "id": "mtkK8__ng03B",
        "outputId": "b7d4c268-c349-41e5-b069-5796432114d3"
      },
      "execution_count": 75,
      "outputs": [
        {
          "output_type": "execute_result",
          "data": {
            "text/plain": [
              "[0, 1, 0, 1, 1, 0, 1]"
            ]
          },
          "metadata": {},
          "execution_count": 75
        }
      ]
    },
    {
      "cell_type": "code",
      "source": [
        "p2"
      ],
      "metadata": {
        "colab": {
          "base_uri": "https://localhost:8080/"
        },
        "id": "JKn-o0YJg3fx",
        "outputId": "7a3d6736-84ec-4199-d23e-368c19d29d99"
      },
      "execution_count": 76,
      "outputs": [
        {
          "output_type": "execute_result",
          "data": {
            "text/plain": [
              "[1, 0, 1, 0, 0, 1, 1]"
            ]
          },
          "metadata": {},
          "execution_count": 76
        }
      ]
    },
    {
      "cell_type": "code",
      "source": [
        "def mutation_min_vertex_cov(bitstring: list,n_bits: int,n_mut: int,r_mut: float, k :int):\n",
        "  # Given a bitstring\n",
        "  # Go through each elemnt of the string\n",
        "  # print(bitstring)\n",
        "\n",
        "  # bitstring_copy = bitstring.copy()\n",
        "\n",
        "  if np.random.rand() < r_mut:\n",
        "    if n_mut< k and n_mut< n_bits-k:\n",
        "\n",
        "      idx1 = np.random.choice(np.where(np.asarray(bitstring)==1)[0],n_mut,replace = False)\n",
        "\n",
        "      idx0 = np.random.choice(np.where(np.asarray(bitstring)==0)[0],n_mut,replace = False)\n",
        "\n",
        "      # print(idx0,idx1)\n",
        "    \n",
        "      for i in range(n_mut):\n",
        "\n",
        "        bitstring[idx0[i]] = 1\n",
        "\n",
        "        bitstring[idx1[i]] = 0\n",
        "\n",
        "  return bitstring\n"
      ],
      "metadata": {
        "id": "uEPk6DjdjRO8"
      },
      "execution_count": 127,
      "outputs": []
    },
    {
      "cell_type": "code",
      "source": [
        "mutation_min_vertex_cov(p1.copy(),7,1,1,4)"
      ],
      "metadata": {
        "colab": {
          "base_uri": "https://localhost:8080/"
        },
        "id": "1Xn4rgaJuGAO",
        "outputId": "206dae7c-2075-4e13-bd28-2b046c822110"
      },
      "execution_count": 128,
      "outputs": [
        {
          "output_type": "execute_result",
          "data": {
            "text/plain": [
              "[0, 0, 1, 1, 1, 0, 1]"
            ]
          },
          "metadata": {},
          "execution_count": 128
        }
      ]
    },
    {
      "cell_type": "code",
      "source": [
        "p1"
      ],
      "metadata": {
        "colab": {
          "base_uri": "https://localhost:8080/"
        },
        "id": "Tt-G55i2uXiY",
        "outputId": "5878674b-087a-4888-caa2-b5ba2aed9ebd"
      },
      "execution_count": 129,
      "outputs": [
        {
          "output_type": "execute_result",
          "data": {
            "text/plain": [
              "[0, 1, 0, 1, 1, 0, 1]"
            ]
          },
          "metadata": {},
          "execution_count": 129
        }
      ]
    },
    {
      "cell_type": "code",
      "source": [
        "# genetic algorithm\n",
        "def genetic_algorithm_min_vertex_decision(objective, n_bits, n_iter, n_pop, r_cross,r_mut,n_cross,n_mut,k,num_edges_G ):\n",
        "  # initial population of random bitstring\n",
        "  # pop = [np.random.randint(0,2,n_bits).tolist() for _ in range(n_pop)]\n",
        "  pop = []\n",
        "  for _ in range(n_pop):\n",
        "\n",
        "    pop_elem = np.zeros(n_bits,dtype = int)\n",
        "    for i in np.random.choice(n_bits,k,replace = False):\n",
        "      pop_elem[i] = 1\n",
        "\n",
        "    pop.append(pop_elem.tolist())\n",
        "\n",
        "  # print(pop)\n",
        "\n",
        "  best, best_eval = 0,objective(num_edges_G,pop[0])\n",
        "  # enumerate generations\n",
        "  for gen in range(n_iter):\n",
        "\n",
        "    # print(gen)\n",
        "\n",
        "    #evaluate all cadidates in the population\n",
        "\n",
        "    scores = [objective(num_edges_G,c) for c in pop]    \n",
        "\n",
        "    print(scores)\n",
        "\n",
        "    # chec for new best solution\n",
        "\n",
        "    for i in range(n_pop):\n",
        "      if scores[i]< best_eval:\n",
        "        best,best_eval = pop[i],scores[i]\n",
        "        print(\">%d, new best f(%s) = %.3f\"%(gen,pop[i],scores[i]))\n",
        "\n",
        "      if best_eval == 0:\n",
        "\n",
        "        return [best,best_eval]\n",
        "\n",
        "    # select parents \n",
        "    selected= [selection(pop,n_pop,scores) for _ in range(n_pop)]\n",
        "    children = list()\n",
        "\n",
        "    for i in range(0,n_pop,2):\n",
        "      # Select parents in pairs\n",
        "      p1, p2 = selected[i], selected[i+1]\n",
        "      # print(\"p1\")\n",
        "      # print(p1)\n",
        "      # print(\"p2\")\n",
        "      # print(p2)\n",
        "      # Crossover and mutation \n",
        "      for c in crossover_min_vertex_cov(p1,p2,n_cross,r_cross):\n",
        "        # Mutation\n",
        "        #print(\"mut\")\n",
        "        mutation_min_vertex_cov(c,n_bits,n_mut,r_mut,k)\n",
        "        # Store for next generation\n",
        "        children.append(c)\n",
        "      # Replace popuation\n",
        "      pop = children\n",
        "      # print(pop)\n",
        "  return [best,best_eval]"
      ],
      "metadata": {
        "id": "ySVRy8U7ukdm"
      },
      "execution_count": 147,
      "outputs": []
    },
    {
      "cell_type": "code",
      "source": [
        "# define the total iterations \n",
        "n_iter = 150\n",
        "# bits\n",
        "n_bits = len(G.nodes)\n",
        "# Pop size\n",
        "n_pop = 2\n",
        "# Crossover rate\n",
        "r_cross = 0.9\n",
        "# mutation rate\n",
        "r_mut = 1.0/float(n_bits)\n",
        "# decision problem \n",
        "k = 5\n",
        "# Entries to crossover < k\n",
        "n_cross = int(k/2)\n",
        "# Entries to mutate <k and n_bits-k\n",
        "n_mut = 1"
      ],
      "metadata": {
        "id": "YVbdjP8ie5mj"
      },
      "execution_count": 178,
      "outputs": []
    },
    {
      "cell_type": "code",
      "source": [
        "genetic_algorithm_min_vertex_decision(cost_cover,n_bits,n_iter,n_pop,r_cross,r_mut,n_cross,n_mut,k,num_edges_G)"
      ],
      "metadata": {
        "colab": {
          "base_uri": "https://localhost:8080/"
        },
        "id": "czAI3NNifxrf",
        "outputId": "02f88dc1-fd54-4f41-bd23-4ffe5f4822f3"
      },
      "execution_count": 179,
      "outputs": [
        {
          "output_type": "stream",
          "name": "stdout",
          "text": [
            "[1, 3]\n",
            "[1, 1]\n",
            "[1, 1]\n",
            "[1, 1]\n",
            "[1, 1]\n",
            "[2, 2]\n",
            "[1, 1]\n",
            "[1, 2]\n",
            "[1, 1]\n",
            "[1, 1]\n",
            "[1, 1]\n",
            "[1, 1]\n",
            "[1, 1]\n",
            "[1, 1]\n",
            "[1, 1]\n",
            "[1, 2]\n",
            "[1, 1]\n",
            "[1, 1]\n",
            "[1, 1]\n",
            "[1, 1]\n",
            "[1, 2]\n",
            "[2, 1]\n",
            "[1, 2]\n",
            "[2, 1]\n",
            "[1, 1]\n",
            "[1, 1]\n",
            "[1, 1]\n",
            "[1, 1]\n",
            "[1, 1]\n",
            "[1, 1]\n",
            "[1, 1]\n",
            "[1, 1]\n",
            "[1, 1]\n",
            "[1, 1]\n",
            "[1, 1]\n",
            "[1, 1]\n",
            "[1, 2]\n",
            "[1, 2]\n",
            "[1, 2]\n",
            "[1, 1]\n",
            "[1, 1]\n",
            "[1, 1]\n",
            "[1, 1]\n",
            "[1, 1]\n",
            "[1, 1]\n",
            "[1, 1]\n",
            "[1, 1]\n",
            "[1, 1]\n",
            "[2, 2]\n",
            "[2, 2]\n",
            "[1, 2]\n",
            "[1, 2]\n",
            "[2, 2]\n",
            "[2, 1]\n",
            "[1, 1]\n",
            "[0, 1]\n",
            ">55, new best f([0, 1, 1, 0, 0, 1, 1, 1]) = 0.000\n"
          ]
        },
        {
          "output_type": "execute_result",
          "data": {
            "text/plain": [
              "[[0, 1, 1, 0, 0, 1, 1, 1], 0]"
            ]
          },
          "metadata": {},
          "execution_count": 179
        }
      ]
    },
    {
      "cell_type": "code",
      "source": [],
      "metadata": {
        "id": "bisu5vZyf8d-"
      },
      "execution_count": 67,
      "outputs": []
    },
    {
      "cell_type": "code",
      "source": [
        "pop_elem"
      ],
      "metadata": {
        "colab": {
          "base_uri": "https://localhost:8080/"
        },
        "id": "xgJbDZvoiC3A",
        "outputId": "51e0cb64-b2bc-4997-9c79-c1593b63e896"
      },
      "execution_count": 68,
      "outputs": [
        {
          "output_type": "execute_result",
          "data": {
            "text/plain": [
              "array([1, 1, 0, 1, 1])"
            ]
          },
          "metadata": {},
          "execution_count": 68
        }
      ]
    },
    {
      "cell_type": "code",
      "source": [],
      "metadata": {
        "id": "WBZmMkgGkf8A"
      },
      "execution_count": null,
      "outputs": []
    }
  ]
}